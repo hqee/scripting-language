{
  "nbformat": 4,
  "nbformat_minor": 0,
  "metadata": {
    "colab": {
      "provenance": []
    },
    "kernelspec": {
      "name": "python3",
      "display_name": "Python 3"
    },
    "language_info": {
      "name": "python"
    }
  },
  "cells": [
    {
      "cell_type": "markdown",
      "source": [
        "Nama : Haqi Dhiya Firmana\n",
        "\n",
        "NIM  : 23051130016"
      ],
      "metadata": {
        "id": "WkMCnLT1ri7t"
      }
    },
    {
      "cell_type": "markdown",
      "source": [
        "# **Module 2** : Basic 1 Part 1"
      ],
      "metadata": {
        "id": "TPW7QpWIhg0_"
      }
    },
    {
      "cell_type": "code",
      "execution_count": null,
      "metadata": {
        "colab": {
          "base_uri": "https://localhost:8080/"
        },
        "id": "Jymd2pvPhPo3",
        "outputId": "5f33ea44-412a-475a-f6f6-0fff6a66580e"
      },
      "outputs": [
        {
          "output_type": "stream",
          "name": "stdout",
          "text": [
            "Pussy cat, pussy cat where have you been?\n"
          ]
        }
      ],
      "source": [
        "# print = function , \"Pussy cat, pussy cat where have you been?\" = argumen\n",
        "print(\"Pussy cat, pussy cat where have you been?\" )"
      ]
    },
    {
      "cell_type": "code",
      "source": [
        "print(\"Pussy cat, pussy cat where have you been?\" )\n",
        "print(\"i've been to London to look at the queen.\")"
      ],
      "metadata": {
        "colab": {
          "base_uri": "https://localhost:8080/"
        },
        "id": "ntK-3Hr5hvN1",
        "outputId": "97bc154d-abde-44af-c3bd-94026dc8ba9e"
      },
      "execution_count": null,
      "outputs": [
        {
          "output_type": "stream",
          "name": "stdout",
          "text": [
            "Pussy cat, pussy cat where have you been?\n",
            "i've been to London to look at the queen.\n"
          ]
        }
      ]
    },
    {
      "cell_type": "code",
      "source": [
        "print(\"Pussy cat, pussy cat \\nwhere have you been?\\n\" )\n",
        "print(\"i've been to London \\nto look at the queen.\")"
      ],
      "metadata": {
        "colab": {
          "base_uri": "https://localhost:8080/"
        },
        "id": "dbEOhxQBiD_5",
        "outputId": "dd500f22-ea62-4ae2-c6e9-fd7647bd64d0"
      },
      "execution_count": null,
      "outputs": [
        {
          "output_type": "stream",
          "name": "stdout",
          "text": [
            "Pussy cat, pussy cat \n",
            "where have you been?\n",
            "\n",
            "i've been to London \n",
            "to look at the queen.\n"
          ]
        }
      ]
    },
    {
      "cell_type": "code",
      "source": [
        "print( \"Pussy cat\", \"pussy cat\", \"where have you been?\" )"
      ],
      "metadata": {
        "colab": {
          "base_uri": "https://localhost:8080/"
        },
        "id": "dAhT0yRuiJlR",
        "outputId": "154d1cd3-8869-4045-bc6f-bf25df45205e"
      },
      "execution_count": null,
      "outputs": [
        {
          "output_type": "stream",
          "name": "stdout",
          "text": [
            "Pussy cat pussy cat where have you been?\n"
          ]
        }
      ]
    },
    {
      "cell_type": "code",
      "source": [
        "print(\"My name is\", \"Python \" )\n",
        "print(\"Monty Python\")"
      ],
      "metadata": {
        "colab": {
          "base_uri": "https://localhost:8080/"
        },
        "id": "Ermht4RdiXaQ",
        "outputId": "70c422d8-e2b8-446c-cc6e-d99e35a7c6bb"
      },
      "execution_count": null,
      "outputs": [
        {
          "output_type": "stream",
          "name": "stdout",
          "text": [
            "My name is Python \n",
            "Monty Python\n"
          ]
        }
      ]
    },
    {
      "cell_type": "code",
      "source": [
        "print( \"My name is\" , \"Python\", end=\", \")\n",
        "print( \"Monty Python\")"
      ],
      "metadata": {
        "colab": {
          "base_uri": "https://localhost:8080/"
        },
        "id": "Tfhl1DWPickB",
        "outputId": "e2ee06bf-8974-43be-f97e-2a47c75864e5"
      },
      "execution_count": null,
      "outputs": [
        {
          "output_type": "stream",
          "name": "stdout",
          "text": [
            "My name is Python, Monty Python\n"
          ]
        }
      ]
    },
    {
      "cell_type": "code",
      "source": [
        "print( \"My\", \"name\", \"is\",  \"Monty\" ,\"Python\", sep=\"-\")"
      ],
      "metadata": {
        "colab": {
          "base_uri": "https://localhost:8080/"
        },
        "id": "CiQrSxcHijKz",
        "outputId": "ace1320f-1e3d-4781-c63c-6450deb8da8f"
      },
      "execution_count": null,
      "outputs": [
        {
          "output_type": "stream",
          "name": "stdout",
          "text": [
            "My-name-is-Monty-Python\n"
          ]
        }
      ]
    },
    {
      "cell_type": "code",
      "source": [
        "print(\"My\" , \"name\" , \"is \" , sep=\" \" , end=\"*\")\n",
        "print(\"Monty\", \"Python\", sep=\"-\", end=\"*\\n\")"
      ],
      "metadata": {
        "colab": {
          "base_uri": "https://localhost:8080/"
        },
        "id": "dE5aKhjsiwNK",
        "outputId": "6b6cd6bb-91e5-4637-8d83-58d1f5fcd799"
      },
      "execution_count": null,
      "outputs": [
        {
          "output_type": "stream",
          "name": "stdout",
          "text": [
            "My name is *Monty-Python*\n"
          ]
        }
      ]
    },
    {
      "cell_type": "code",
      "source": [
        "print(\"2\")\n",
        "print(2)\n",
        "\n",
        "print(type(\"2\"))\n",
        "print(type(2))"
      ],
      "metadata": {
        "colab": {
          "base_uri": "https://localhost:8080/"
        },
        "id": "699zpO5Ai_ri",
        "outputId": "e48a2acc-096e-457a-9366-ec3c0467fdce"
      },
      "execution_count": null,
      "outputs": [
        {
          "output_type": "stream",
          "name": "stdout",
          "text": [
            "2\n",
            "2\n",
            "<class 'str'>\n",
            "<class 'int'>\n"
          ]
        }
      ]
    },
    {
      "cell_type": "code",
      "source": [
        "print(2 + 3 - 5)\n",
        "print(9/6)\n",
        "print(9 % 6)\n",
        "print(3*4)\n",
        "print(3**4)"
      ],
      "metadata": {
        "colab": {
          "base_uri": "https://localhost:8080/"
        },
        "id": "uIm6qNzhjVq_",
        "outputId": "e1835826-04f9-4f60-e215-dedc6657109b"
      },
      "execution_count": null,
      "outputs": [
        {
          "output_type": "stream",
          "name": "stdout",
          "text": [
            "0\n",
            "1.5\n",
            "3\n",
            "12\n",
            "81\n"
          ]
        }
      ]
    },
    {
      "cell_type": "markdown",
      "source": [
        "# **Module 3** : Operator & Statement"
      ],
      "metadata": {
        "id": "gC-1GAvNj-ZM"
      }
    },
    {
      "cell_type": "code",
      "source": [
        "a = int (input ( \"masukkan a = \"))\n",
        "b = int (input ( \"masukkan b = \"))\n",
        "c = int (input ( \"masukkan c = \"))\n",
        "d = int (input ( \"masukkan d = \"))\n",
        "\n",
        "print(\"\\na==b\", a==b)\n",
        "print(\"a==c\", a==c)\n",
        "print(\"a!=b\", a!=b)\n",
        "\n",
        "print ( \"a>d\" , a>d)\n",
        "print (\"b<d\" ,b<d)\n",
        "print (\"b>=d\", b>=d)\n",
        "print (\"b<=d\", b<=d)"
      ],
      "metadata": {
        "colab": {
          "base_uri": "https://localhost:8080/"
        },
        "id": "50tTVy2JkZsw",
        "outputId": "bd457eef-e396-4926-ccd9-853cbe388d0f"
      },
      "execution_count": null,
      "outputs": [
        {
          "output_type": "stream",
          "name": "stdout",
          "text": [
            "masukkan a = 2\n",
            "masukkan b = 3\n",
            "masukkan c = 1\n",
            "masukkan d = 2\n",
            "\n",
            "a==b False\n",
            "a==c False\n",
            "a!=b True\n",
            "a>d False\n",
            "b<d False\n",
            "b>=d True\n",
            "b<=d False\n"
          ]
        }
      ]
    },
    {
      "cell_type": "code",
      "source": [
        "a = 5\n",
        "b = 6\n",
        "\n",
        "if a==b:\n",
        "  print (\"a dan b bernilai sama\")\n",
        "else:\n",
        "  print (\"a dan b bernilai berbeda\")"
      ],
      "metadata": {
        "colab": {
          "base_uri": "https://localhost:8080/"
        },
        "id": "3uqvCY0gk_un",
        "outputId": "5fbcf906-a7bf-47cd-bdab-3dfe0c09f84a"
      },
      "execution_count": null,
      "outputs": [
        {
          "output_type": "stream",
          "name": "stdout",
          "text": [
            "a dan b bernilai berbeda\n"
          ]
        }
      ]
    },
    {
      "cell_type": "code",
      "source": [
        "a = 80\n",
        "\n",
        "if a > 80:\n",
        "  print (\"Lulus\")\n",
        "elif a > 60:\n",
        "  print ( \"Mengulang\" )\n",
        "else :\n",
        "  print (\"Tidak Lulus\")"
      ],
      "metadata": {
        "colab": {
          "base_uri": "https://localhost:8080/"
        },
        "id": "sCPp1akVlQCd",
        "outputId": "4126329e-03de-48c7-f4dc-89707a5fbbc8"
      },
      "execution_count": null,
      "outputs": [
        {
          "output_type": "stream",
          "name": "stdout",
          "text": [
            "Mengulang\n"
          ]
        }
      ]
    },
    {
      "cell_type": "code",
      "source": [
        "x = 10\n",
        "\n",
        "if x > 5: # True\n",
        "  if x == 6: # False\n",
        "    print (\"nested: x = 6\")\n",
        "  elif x == 10: # True\n",
        "    print (\"nested: x == 10\")\n",
        "  else :\n",
        "    print(\"nested: else\")\n",
        "else :\n",
        "  print (\"else\")"
      ],
      "metadata": {
        "colab": {
          "base_uri": "https://localhost:8080/"
        },
        "id": "dYAtOHTqlUmo",
        "outputId": "be0ec0c7-585a-4ba1-fb20-67b730216360"
      },
      "execution_count": null,
      "outputs": [
        {
          "output_type": "stream",
          "name": "stdout",
          "text": [
            "nested: x == 10\n"
          ]
        }
      ]
    },
    {
      "cell_type": "code",
      "source": [
        "#input nilai x dan y\n",
        "print(\"Memasukkan nilai koordinat\")\n",
        "x = int(input(\"Masukkan nilai x :\"))\n",
        "y = int(input(\"Masukkan nilai y :\"))\n",
        "\n",
        "#memeriksa nilai x dan y\n",
        "if x>0 and y>0 :\n",
        "    print(\"Koordinat (\"+ str(x) +\", \"+ str(y) +\") berada pada kuadran \" + \"I\")\n",
        "elif x<0 and y>0 :\n",
        "    print(\"Koordinat (\"+ str(x) +\", \"+ str(y) +\") berada pada kuadran \" + \"II\")\n",
        "elif x<0 and y<0 :\n",
        "    print(\"Koordinat (\"+ str(x) +\", \"+ str(y) +\") berada pada kuadran \" + \"III\")\n",
        "elif x>0 and y<0 :\n",
        "    print(\"Koordinat (\"+ str(x) +\", \"+ str(y) +\") berada pada kuadran \" + \"IV\")\n",
        "else :\n",
        "    pass"
      ],
      "metadata": {
        "colab": {
          "base_uri": "https://localhost:8080/"
        },
        "id": "UttyUjZHlz92",
        "outputId": "85c93a9a-a1ea-4380-fb13-53443af35889"
      },
      "execution_count": null,
      "outputs": [
        {
          "output_type": "stream",
          "name": "stdout",
          "text": [
            "Memasukkan nilai koordinat\n",
            "Masukkan nilai x :1\n",
            "Masukkan nilai y :2\n",
            "Koordinat (1, 2) berada pada kuadran I\n"
          ]
        }
      ]
    },
    {
      "cell_type": "code",
      "source": [
        "for i in range(10):\n",
        "  print(\"The value of i is currently \", i)"
      ],
      "metadata": {
        "colab": {
          "base_uri": "https://localhost:8080/"
        },
        "id": "2MNh3A7xmLco",
        "outputId": "fa3acc40-7eb3-4d95-baa7-d5b7a55da382"
      },
      "execution_count": null,
      "outputs": [
        {
          "output_type": "stream",
          "name": "stdout",
          "text": [
            "The value of i is currently  0\n",
            "The value of i is currently  1\n",
            "The value of i is currently  2\n",
            "The value of i is currently  3\n",
            "The value of i is currently  4\n",
            "The value of i is currently  5\n",
            "The value of i is currently  6\n",
            "The value of i is currently  7\n",
            "The value of i is currently  8\n",
            "The value of i is currently  9\n"
          ]
        }
      ]
    },
    {
      "cell_type": "code",
      "source": [
        "for i in range(2, 8):\n",
        "  print(\"The value of i is currently \", i)"
      ],
      "metadata": {
        "colab": {
          "base_uri": "https://localhost:8080/"
        },
        "id": "TwWvGUYQmagK",
        "outputId": "d3389fa8-de77-47b0-aaf4-cd125756dbe9"
      },
      "execution_count": null,
      "outputs": [
        {
          "output_type": "stream",
          "name": "stdout",
          "text": [
            "The value of i is currently  2\n",
            "The value of i is currently  3\n",
            "The value of i is currently  4\n",
            "The value of i is currently  5\n",
            "The value of i is currently  6\n",
            "The value of i is currently  7\n"
          ]
        }
      ]
    },
    {
      "cell_type": "code",
      "source": [
        "for i in range(2, 8, 3):\n",
        "  print(\"The value of i is currently \", i)"
      ],
      "metadata": {
        "colab": {
          "base_uri": "https://localhost:8080/"
        },
        "id": "erVTK6QsmeTb",
        "outputId": "112de273-3e46-442e-e52e-9268f0cd5d78"
      },
      "execution_count": null,
      "outputs": [
        {
          "output_type": "stream",
          "name": "stdout",
          "text": [
            "The value of i is currently  2\n",
            "The value of i is currently  5\n"
          ]
        }
      ]
    },
    {
      "cell_type": "code",
      "source": [
        "for i in range (11):\n",
        "  print (i, end=\" \")\n",
        "  if i == 7:\n",
        "    break"
      ],
      "metadata": {
        "colab": {
          "base_uri": "https://localhost:8080/"
        },
        "id": "hRGAo3KCmjTB",
        "outputId": "4cfe28f4-0c5a-408d-a41a-e4174390756f"
      },
      "execution_count": null,
      "outputs": [
        {
          "output_type": "stream",
          "name": "stdout",
          "text": [
            "0 1 2 3 4 5 6 7 "
          ]
        }
      ]
    },
    {
      "cell_type": "code",
      "source": [
        "print(\"The break instruction:\")\n",
        "for i in range(1, 6):\n",
        "  if i == 3:\n",
        "    break\n",
        "  print(\"Inside the loop.\", i)\n",
        "print(\"Outside the loop.\")"
      ],
      "metadata": {
        "colab": {
          "base_uri": "https://localhost:8080/"
        },
        "id": "43weXnZlmylU",
        "outputId": "13037899-7aea-46c4-8ea5-e144c12abd58"
      },
      "execution_count": null,
      "outputs": [
        {
          "output_type": "stream",
          "name": "stdout",
          "text": [
            "The break instruction:\n",
            "Inside the loop. 1\n",
            "Inside the loop. 2\n",
            "Outside the loop.\n"
          ]
        }
      ]
    },
    {
      "cell_type": "code",
      "source": [
        "for i in range (1, 11) :\n",
        "  if i % 2 == 0 :\n",
        "    continue\n",
        "  print (i, end='\\t')"
      ],
      "metadata": {
        "colab": {
          "base_uri": "https://localhost:8080/"
        },
        "id": "aEm-qAozm3n5",
        "outputId": "0e6ccd05-06b4-4531-a7c3-6f1b4d099c8b"
      },
      "execution_count": null,
      "outputs": [
        {
          "output_type": "stream",
          "name": "stdout",
          "text": [
            "1\t3\t5\t7\t9\t"
          ]
        }
      ]
    },
    {
      "cell_type": "code",
      "source": [
        "#continue - examples\n",
        "\n",
        "print(\"The continue instruction:\")\n",
        "for i in range(1, 6):\n",
        "  if i == 3:\n",
        "    continue\n",
        "  print(\"Inside the loop.\", i)\n",
        "print(\"Outside the loop.\")"
      ],
      "metadata": {
        "colab": {
          "base_uri": "https://localhost:8080/"
        },
        "id": "zdPu4e02nHPb",
        "outputId": "fafa995c-5122-4e3c-e900-1a4089f6a90a"
      },
      "execution_count": null,
      "outputs": [
        {
          "output_type": "stream",
          "name": "stdout",
          "text": [
            "The continue instruction:\n",
            "Inside the loop. 1\n",
            "Inside the loop. 2\n",
            "Inside the loop. 4\n",
            "Inside the loop. 5\n",
            "Outside the loop.\n"
          ]
        }
      ]
    },
    {
      "cell_type": "code",
      "source": [
        "# list\n",
        "a = [1, 2, 3, 4]\n",
        "\n",
        "a.append(\"nana\")\n",
        "a.insert(1, \"haha\")\n",
        "a.extend({10, 100})\n",
        "\n",
        "print(a)\n",
        "print (a[0])\n",
        "print (a[-1])\n",
        "print (a[1:])\n",
        "print (a[:1])"
      ],
      "metadata": {
        "colab": {
          "base_uri": "https://localhost:8080/"
        },
        "id": "JoaPHenvnMHJ",
        "outputId": "fbbeae28-2d49-400f-e37f-1db76c763a64"
      },
      "execution_count": null,
      "outputs": [
        {
          "output_type": "stream",
          "name": "stdout",
          "text": [
            "[1, 'haha', 2, 3, 4, 'nana', 10, 100]\n",
            "1\n",
            "100\n",
            "['haha', 2, 3, 4, 'nana', 10, 100]\n",
            "[1]\n"
          ]
        }
      ]
    },
    {
      "cell_type": "code",
      "source": [
        "numbers = [10, 5, 7, 2, 1]\n",
        "print(\"Original list content:\", numbers) # printing original list content\n",
        "\n",
        "numbers[0] = 111\n",
        "print(\"\\nPrevious list content:\", numbers) # printing previous list content\n",
        "\n",
        "numbers[1] = numbers[4] # copying value of the fifth element to the second\n",
        "print(\"Previous list content:\", numbers) # printing previous list content\n",
        "\n",
        "print(\"\\nList length:\", len(numbers)) # printing the list's length"
      ],
      "metadata": {
        "colab": {
          "base_uri": "https://localhost:8080/"
        },
        "id": "5RxqzwEBnTU5",
        "outputId": "726e7664-33a3-4652-b6cd-9d7f6ca265e3"
      },
      "execution_count": null,
      "outputs": [
        {
          "output_type": "stream",
          "name": "stdout",
          "text": [
            "Original list content: [10, 5, 7, 2, 1]\n",
            "\n",
            "Previous list content: [111, 5, 7, 2, 1]\n",
            "Previous list content: [111, 1, 7, 2, 1]\n",
            "\n",
            "List length: 5\n"
          ]
        }
      ]
    },
    {
      "cell_type": "code",
      "source": [
        "# # swap\n",
        "numbers[0], numbers[1] = numbers[1], numbers[0]\n",
        "print(numbers)"
      ],
      "metadata": {
        "colab": {
          "base_uri": "https://localhost:8080/"
        },
        "id": "KEStj4Usngam",
        "outputId": "f06448ba-369f-4fed-c553-f0313244edef"
      },
      "execution_count": null,
      "outputs": [
        {
          "output_type": "stream",
          "name": "stdout",
          "text": [
            "[1, 111, 7, 2, 1]\n"
          ]
        }
      ]
    },
    {
      "cell_type": "code",
      "source": [
        "myLIst = [8, 10, 6, 2, 4] # list to sort\n",
        "swapped = True # it's a little fake - we need it to enter the while loop\n",
        "\n",
        "while swapped:\n",
        "    swapped = False # no swaps so far\n",
        "    for i in range(len(myLIst) - 1):\n",
        "        if myLIst[i] > myLIst[i + 1]:\n",
        "            swapped = True # swap occured!\n",
        "            myLIst[i], myLIst[i + 1] = myLIst[i + 1], myLIst[i]\n",
        "\n",
        "print(myLIst)"
      ],
      "metadata": {
        "colab": {
          "base_uri": "https://localhost:8080/"
        },
        "id": "_PdxKDp6n5WD",
        "outputId": "0aee1d4b-fc60-4382-def1-9bef5c8fd6b6"
      },
      "execution_count": null,
      "outputs": [
        {
          "output_type": "stream",
          "name": "stdout",
          "text": [
            "[2, 4, 6, 8, 10]\n"
          ]
        }
      ]
    },
    {
      "cell_type": "code",
      "source": [
        "numbers = [5, 4, 3, 2, 1]\n",
        "\n",
        "del numbers[1] # removing the second element from the list\n",
        "print(\"New list's length:\", len(numbers)) # printing new list length\n",
        "print(\"\\nNew list content:\", numbers) # printing current list content"
      ],
      "metadata": {
        "colab": {
          "base_uri": "https://localhost:8080/"
        },
        "id": "eMLUu_adn82R",
        "outputId": "b4b927c4-7794-481c-e550-7ec92756742b"
      },
      "execution_count": null,
      "outputs": [
        {
          "output_type": "stream",
          "name": "stdout",
          "text": [
            "New list's length: 4\n",
            "\n",
            "New list content: [5, 3, 2, 1]\n"
          ]
        }
      ]
    },
    {
      "cell_type": "markdown",
      "source": [
        "# **Module 4** : FUNCTIONS, TUPLES, DICTIONARY, AND DATA-PROCESSING"
      ],
      "metadata": {
        "id": "HWOjPwEDoVa-"
      }
    },
    {
      "cell_type": "code",
      "source": [
        "def message(fname, lname):\n",
        "  print(\"hello \", fname, lname)\n",
        "\n",
        "message(\"haqi\", \"dhiya\")"
      ],
      "metadata": {
        "colab": {
          "base_uri": "https://localhost:8080/"
        },
        "id": "oazOe4E1oPHg",
        "outputId": "40e78f9c-2525-49c1-ae19-804535d05160"
      },
      "execution_count": null,
      "outputs": [
        {
          "output_type": "stream",
          "name": "stdout",
          "text": [
            "hello  haqi dhiya\n"
          ]
        }
      ]
    },
    {
      "cell_type": "code",
      "source": [
        "# metode pemanggilan fungsi\n",
        "\n",
        "def sum(a, b, c):\n",
        "    print(a, \"+\", b, \"+\", c, \"=\", a + b + c)\n",
        "\n",
        "sum(1, 2, 3)\n",
        "sum(c = 3, a = 1, b = 2)\n",
        "sum(1, c = 3, b = 2)\n",
        "sum(1, 2, c = 3)"
      ],
      "metadata": {
        "colab": {
          "base_uri": "https://localhost:8080/"
        },
        "id": "JJHS7HaIopIc",
        "outputId": "d7a55ec6-2aad-46fd-a2f3-55c5d9de777e"
      },
      "execution_count": null,
      "outputs": [
        {
          "output_type": "stream",
          "name": "stdout",
          "text": [
            "1 + 2 + 3 = 6\n",
            "1 + 2 + 3 = 6\n",
            "1 + 2 + 3 = 6\n",
            "1 + 2 + 3 = 6\n"
          ]
        }
      ]
    },
    {
      "cell_type": "code",
      "source": [
        "# Fungsi dengan nilai default parameter: jika ada parameter yang dikosongkan, maka nilai default akan dipakai\n",
        "\n",
        "def introduction(firstName, lastName=\"Smith\"):\n",
        "    print(\"Hello, my name is\", firstName, lastName)\n",
        "\n",
        "# call the function here\n",
        "introduction(\"Henry\")\n",
        "introduction(firstName=\"William\")\n",
        "introduction(\"James\", \"Doe\")"
      ],
      "metadata": {
        "colab": {
          "base_uri": "https://localhost:8080/"
        },
        "id": "J4FSgfVkpDTE",
        "outputId": "ea9bf755-26b2-4a47-bc18-3fb40bdab327"
      },
      "execution_count": null,
      "outputs": [
        {
          "output_type": "stream",
          "name": "stdout",
          "text": [
            "Hello, my name is Henry Smith\n",
            "Hello, my name is William Smith\n",
            "Hello, my name is James Doe\n"
          ]
        }
      ]
    },
    {
      "cell_type": "code",
      "source": [
        "# Fungsi dengan nilai kembalian (Return)\n",
        "\n",
        "def sumTwoNumbers(num1, num2):\n",
        "    sum = num1 + num2\n",
        "    return sum\n",
        "\n",
        "print(sumTwoNumbers(3, 5))"
      ],
      "metadata": {
        "colab": {
          "base_uri": "https://localhost:8080/"
        },
        "id": "AXv93pZdpREQ",
        "outputId": "c02e1555-7c51-4ce4-a549-2a1fb73aedeb"
      },
      "execution_count": null,
      "outputs": [
        {
          "output_type": "stream",
          "name": "stdout",
          "text": [
            "8\n"
          ]
        }
      ]
    },
    {
      "cell_type": "code",
      "source": [
        "# Tuple merupakan variabel yang dapat menyimpan banyak elemen, yang nilai elemennya tidak dapat diubah (immutable) secara in-situ.\n",
        "\n",
        "myTuple = (1, 10, 100, 1000)\n",
        "\n",
        "print(myTuple[0])\n",
        "print(myTuple[-1])\n",
        "print(myTuple[1:])\n",
        "print(myTuple[:-2])\n",
        "\n",
        "for elem in myTuple:\n",
        "    print(elem)"
      ],
      "metadata": {
        "colab": {
          "base_uri": "https://localhost:8080/"
        },
        "id": "HUTEk_3mpvhi",
        "outputId": "b74c932e-16d1-40cd-90cb-bb38655a7859"
      },
      "execution_count": null,
      "outputs": [
        {
          "output_type": "stream",
          "name": "stdout",
          "text": [
            "1\n",
            "1000\n",
            "(10, 100, 1000)\n",
            "(1, 10)\n",
            "1\n",
            "10\n",
            "100\n",
            "1000\n"
          ]
        }
      ]
    },
    {
      "cell_type": "code",
      "source": [
        "# Elemen tuple bisa dilakukan operasi penjumlahan dan perkalian\n",
        "\n",
        "myTuple = (1, 10, 100)\n",
        "\n",
        "t1 = myTuple + (1000, 10000)\n",
        "t2 = myTuple * 3\n",
        "\n",
        "print(len(t2))\n",
        "print(t1)\n",
        "print(t2)\n",
        "print(10 in myTuple)\n",
        "print(-10 not in myTuple)"
      ],
      "metadata": {
        "colab": {
          "base_uri": "https://localhost:8080/"
        },
        "id": "E9jTBny1p_I1",
        "outputId": "8d9b6365-08f8-4208-d510-77b754b962e3"
      },
      "execution_count": null,
      "outputs": [
        {
          "output_type": "stream",
          "name": "stdout",
          "text": [
            "9\n",
            "(1, 10, 100, 1000, 10000)\n",
            "(1, 10, 100, 1, 10, 100, 1, 10, 100)\n",
            "True\n",
            "True\n"
          ]
        }
      ]
    },
    {
      "cell_type": "code",
      "source": [
        "# dictionary\n",
        "\n",
        "dict = {\"cat\" : \"chat\", \"dog\" : \"chien\", \"horse\" : \"cheval\"}\n",
        "phoneNumbers = {'boss' : 5551234567, 'Suzy' : 22657854310}\n",
        "emptyDictionary = {}\n",
        "\n",
        "print(dict['cat'])\n",
        "print(phoneNumbers['Suzy'])"
      ],
      "metadata": {
        "colab": {
          "base_uri": "https://localhost:8080/"
        },
        "id": "XFWUZntWqGGp",
        "outputId": "18dfdf1c-cef7-4944-bfc5-f153cdf11530"
      },
      "execution_count": null,
      "outputs": [
        {
          "output_type": "stream",
          "name": "stdout",
          "text": [
            "chat\n",
            "22657854310\n"
          ]
        }
      ]
    },
    {
      "cell_type": "code",
      "source": [
        "# Mengakses dictionary dengan keys()\n",
        "for key in dict.keys():\n",
        "    print(key, \"->\", dict[key])"
      ],
      "metadata": {
        "colab": {
          "base_uri": "https://localhost:8080/"
        },
        "id": "oLoY9qCAqMiT",
        "outputId": "fd18028e-94ee-47b2-8d9b-788db24e6597"
      },
      "execution_count": null,
      "outputs": [
        {
          "output_type": "stream",
          "name": "stdout",
          "text": [
            "cat -> chat\n",
            "dog -> chien\n",
            "horse -> cheval\n"
          ]
        }
      ]
    },
    {
      "cell_type": "code",
      "source": [
        "# Mengurutkan dictionary dengan sorted()\n",
        "for key in sorted(dict.keys()):\n",
        "    print(key, \"->\", dict[key])"
      ],
      "metadata": {
        "colab": {
          "base_uri": "https://localhost:8080/"
        },
        "id": "dX3Mz2B6qfgj",
        "outputId": "c9f5a0c8-ff0c-4250-a0d7-e7e1a33bdf8c"
      },
      "execution_count": null,
      "outputs": [
        {
          "output_type": "stream",
          "name": "stdout",
          "text": [
            "cat -> chat\n",
            "dog -> chien\n",
            "horse -> cheval\n"
          ]
        }
      ]
    },
    {
      "cell_type": "code",
      "source": [
        "# Mengubah nilai elemen dan menambahkan anggota\n",
        "dict['cat'] = 'minou'\n",
        "print(dict)\n",
        "dict['swan'] = 'cygne'\n",
        "print(dict)"
      ],
      "metadata": {
        "colab": {
          "base_uri": "https://localhost:8080/"
        },
        "id": "QIWDsgTRqgiO",
        "outputId": "afad23d2-5fe8-46a5-e3be-0fd012bbd289"
      },
      "execution_count": null,
      "outputs": [
        {
          "output_type": "stream",
          "name": "stdout",
          "text": [
            "{'cat': 'minou', 'dog': 'chien', 'horse': 'cheval'}\n",
            "{'cat': 'minou', 'dog': 'chien', 'horse': 'cheval', 'swan': 'cygne'}\n"
          ]
        }
      ]
    },
    {
      "cell_type": "code",
      "source": [
        "# Menambah anggota dengan perintah update()\n",
        "dict.update({'duck' : 'canard'})\n",
        "print(dict)"
      ],
      "metadata": {
        "colab": {
          "base_uri": "https://localhost:8080/"
        },
        "id": "0epuVXoPqzJV",
        "outputId": "57936540-db6c-469e-a80b-dfad38994a0f"
      },
      "execution_count": null,
      "outputs": [
        {
          "output_type": "stream",
          "name": "stdout",
          "text": [
            "{'cat': 'minou', 'dog': 'chien', 'horse': 'cheval', 'swan': 'cygne', 'duck': 'canard'}\n"
          ]
        }
      ]
    },
    {
      "cell_type": "code",
      "source": [
        "# Menghapus anggota dengan perintah del\n",
        "del dict['dog']\n",
        "print(dict)"
      ],
      "metadata": {
        "colab": {
          "base_uri": "https://localhost:8080/"
        },
        "id": "k2r8uctIrCME",
        "outputId": "d4ce6728-066f-44e0-bc24-584e90b37889"
      },
      "execution_count": null,
      "outputs": [
        {
          "output_type": "stream",
          "name": "stdout",
          "text": [
            "{'cat': 'minou', 'horse': 'cheval', 'swan': 'cygne', 'duck': 'canard'}\n"
          ]
        }
      ]
    },
    {
      "cell_type": "code",
      "source": [
        "# Menghapus anggota terakhir dengan perintah popitem()\n",
        "print(dict.popitem())\n",
        "print(dict)"
      ],
      "metadata": {
        "colab": {
          "base_uri": "https://localhost:8080/"
        },
        "id": "ofQxHdJxrEXF",
        "outputId": "12cf05f1-a523-4e64-a21f-403efadff0aa"
      },
      "execution_count": null,
      "outputs": [
        {
          "output_type": "stream",
          "name": "stdout",
          "text": [
            "('duck', 'canard')\n",
            "{'cat': 'minou', 'horse': 'cheval', 'swan': 'cygne'}\n"
          ]
        }
      ]
    },
    {
      "cell_type": "code",
      "source": [],
      "metadata": {
        "id": "gDkEyHQPrGqE"
      },
      "execution_count": null,
      "outputs": []
    }
  ]
}