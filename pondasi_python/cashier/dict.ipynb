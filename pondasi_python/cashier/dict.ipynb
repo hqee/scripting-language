{
 "cells": [
  {
   "cell_type": "code",
   "execution_count": 9,
   "id": "34f08464",
   "metadata": {},
   "outputs": [
    {
     "name": "stdout",
     "output_type": "stream",
     "text": [
      "7000\n",
      "{'jeruk': 7000, 'pisang': 4500, 'mangga': 8000}\n"
     ]
    }
   ],
   "source": [
    "dict = {\n",
    "    \"apel\" : 5000,\n",
    "    \"jeruk\" : 7000,\n",
    "    \"pisang\" : 4000\n",
    "}\n",
    "\n",
    "print(dict['jeruk'])\n",
    "dict.update({\"mangga\" : 8000}) # menambah mangga\n",
    "dict['pisang'] = 4500\n",
    "del dict['apel']\n",
    "\n",
    "print(dict)"
   ]
  },
  {
   "cell_type": "code",
   "execution_count": 18,
   "id": "ae57c049",
   "metadata": {},
   "outputs": [
    {
     "name": "stdout",
     "output_type": "stream",
     "text": [
      "aldho\n",
      "{'101': {'nama': 'aldho', 'jurusan': 'ti'}, '102': {'nama': 'haqi', 'jurusan': 'ti'}, '201': {'nama': 'zaidan', 'jurusan': 'ti'}}\n",
      "101  ->  {'nama': 'aldho', 'jurusan': 'ti'}\n",
      "102  ->  {'nama': 'haqi', 'jurusan': 'ti'}\n",
      "201  ->  {'nama': 'zaidan', 'jurusan': 'ti'}\n"
     ]
    }
   ],
   "source": [
    "mahasiswa = {\n",
    "    \"101\" : {\"nama\" : \"aldho\", \"jurusan\" : \"ti\"},\n",
    "    \"102\" : {\"nama\" : \"haqi\", \"jurusan\" : \"ti\"}\n",
    "}\n",
    "\n",
    "print(mahasiswa[\"101\"][\"nama\"])\n",
    "mahasiswa.update({\"201\" : {\"nama\" : \"zaidan\", \"jurusan\" : \"ti\"}})\n",
    "\n",
    "print(mahasiswa)\n",
    "\n",
    "for key in mahasiswa.keys():\n",
    "    print(key, \" -> \", mahasiswa[key])"
   ]
  }
 ],
 "metadata": {
  "kernelspec": {
   "display_name": "Python 3",
   "language": "python",
   "name": "python3"
  },
  "language_info": {
   "codemirror_mode": {
    "name": "ipython",
    "version": 3
   },
   "file_extension": ".py",
   "mimetype": "text/x-python",
   "name": "python",
   "nbconvert_exporter": "python",
   "pygments_lexer": "ipython3",
   "version": "3.13.5"
  }
 },
 "nbformat": 4,
 "nbformat_minor": 5
}
