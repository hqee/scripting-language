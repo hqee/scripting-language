{
 "cells": [
  {
   "cell_type": "code",
   "execution_count": 1,
   "id": "bb864775",
   "metadata": {},
   "outputs": [
    {
     "name": "stdout",
     "output_type": "stream",
     "text": [
      "memek\n"
     ]
    }
   ],
   "source": [
    "print(\"memek\")"
   ]
  },
  {
   "cell_type": "code",
   "execution_count": 4,
   "id": "f31f3091",
   "metadata": {},
   "outputs": [
    {
     "name": "stdout",
     "output_type": "stream",
     "text": [
      "alif suka makan magelangan di sugema, \n",
      "\n",
      "dia makan setiap jeda kulihh\n"
     ]
    }
   ],
   "source": [
    "print(\"alif suka makan magelangan di sugema, \\n\\ndia makan setiap jeda kulihh\")"
   ]
  },
  {
   "cell_type": "code",
   "execution_count": 22,
   "id": "05ec506c",
   "metadata": {},
   "outputs": [
    {
     "name": "stdout",
     "output_type": "stream",
     "text": [
      "alif adalah mahasiswa\n",
      "alif urung adus\n"
     ]
    }
   ],
   "source": [
    "a = \"alif\"\n",
    "b = \"adalah\"\n",
    "c = \"mahasiswa\"\n",
    "\n",
    "print(a , b , c, sep=\" \")\n",
    "print(\"alif\", \"urung\", \"adus\", sep=\" \")"
   ]
  },
  {
   "cell_type": "code",
   "execution_count": 25,
   "id": "93e053fc",
   "metadata": {},
   "outputs": [
    {
     "name": "stdout",
     "output_type": "stream",
     "text": [
      "<class 'str'>\n",
      "<class 'int'>\n"
     ]
    }
   ],
   "source": [
    "print(type(\"2\"))\n",
    "print(type(2))"
   ]
  },
  {
   "cell_type": "code",
   "execution_count": 26,
   "id": "632d3bf9",
   "metadata": {},
   "outputs": [
    {
     "name": "stdout",
     "output_type": "stream",
     "text": [
      "291\n"
     ]
    }
   ],
   "source": [
    "print(0x123)"
   ]
  },
  {
   "cell_type": "code",
   "execution_count": 33,
   "id": "3b741d08",
   "metadata": {},
   "outputs": [
    {
     "name": "stdout",
     "output_type": "stream",
     "text": [
      "alif berkata \"aku mau makan\"\n"
     ]
    }
   ],
   "source": [
    "print(\"alif berkata \\\"aku mau makan\\\"\")"
   ]
  },
  {
   "cell_type": "code",
   "execution_count": 34,
   "id": "1ec794bf",
   "metadata": {},
   "outputs": [
    {
     "data": {
      "text/plain": [
       "1"
      ]
     },
     "execution_count": 34,
     "metadata": {},
     "output_type": "execute_result"
    }
   ],
   "source": [
    "9%2"
   ]
  },
  {
   "cell_type": "code",
   "execution_count": null,
   "id": "830bc471",
   "metadata": {},
   "outputs": [
    {
     "name": "stdout",
     "output_type": "stream",
     "text": [
      "asdfsg test\n"
     ]
    }
   ],
   "source": [
    "a = input()\n",
    "\n",
    "print(a + \" test\")"
   ]
  },
  {
   "cell_type": "code",
   "execution_count": 44,
   "id": "1ce4f972",
   "metadata": {},
   "outputs": [
    {
     "name": "stdout",
     "output_type": "stream",
     "text": [
      "0.4\n"
     ]
    }
   ],
   "source": [
    "b = float(input(\"masukkan angka float\"))\n",
    "\n",
    "print(b)"
   ]
  },
  {
   "cell_type": "code",
   "execution_count": 46,
   "id": "e4a18e35",
   "metadata": {},
   "outputs": [
    {
     "name": "stdout",
     "output_type": "stream",
     "text": [
      "False\n"
     ]
    }
   ],
   "source": [
    "a = 10\n",
    "b = 3\n",
    "\n",
    "print(a<b)"
   ]
  },
  {
   "cell_type": "code",
   "execution_count": 49,
   "id": "ddc6a362",
   "metadata": {},
   "outputs": [
    {
     "name": "stdout",
     "output_type": "stream",
     "text": [
      "nilai b\n"
     ]
    }
   ],
   "source": [
    "a = int(input(\"masukkan nilai : \"))\n",
    "\n",
    "if a > 80:\n",
    "    print(\"nilai a\")\n",
    "elif a >= 60:\n",
    "    print(\"nilai b\")\n",
    "else:\n",
    "    print(\"gagal\")"
   ]
  },
  {
   "cell_type": "code",
   "execution_count": 52,
   "id": "177cd069",
   "metadata": {},
   "outputs": [
    {
     "name": "stdout",
     "output_type": "stream",
     "text": [
      "1\n",
      "2\n",
      "3\n",
      "4\n",
      "5\n",
      "6\n",
      "7\n",
      "8\n",
      "9\n",
      "10\n"
     ]
    }
   ],
   "source": [
    "i = 1\n",
    "\n",
    "while i <= 10:\n",
    "    print(i)\n",
    "    i += 1"
   ]
  },
  {
   "cell_type": "code",
   "execution_count": 69,
   "id": "42bffd71",
   "metadata": {},
   "outputs": [
    {
     "name": "stdout",
     "output_type": "stream",
     "text": [
      "1 bisma  1\n",
      "2 bisma  2\n",
      "3 bisma  3\n",
      "4 bisma  4\n",
      "5 bisma  5\n",
      "6 bisma  6\n",
      "7 bisma  7\n",
      "8 bisma  8\n",
      "9 bisma  9\n",
      "11 bisma  11\n",
      "12 bisma  12\n",
      "13 bisma  13\n",
      "14 bisma  14\n",
      "15 bisma  15\n",
      "16 bisma  16\n",
      "17 bisma  17\n",
      "18 bisma  18\n",
      "19 bisma  19\n"
     ]
    }
   ],
   "source": [
    "for i in range (1, 20):\n",
    "    if i == 10:\n",
    "        continue\n",
    "    print(i, \"bisma \", i)\n",
    "    "
   ]
  },
  {
   "cell_type": "code",
   "execution_count": 86,
   "id": "a5865a82",
   "metadata": {},
   "outputs": [
    {
     "name": "stdout",
     "output_type": "stream",
     "text": [
      "['alif', 'zaidan', 'bisma', 'fauzi', 'haqi']\n",
      "haqi\n",
      "fauzi\n",
      "['alif', 'zaidan']\n",
      "['bisma', 'fauzi', 'haqi']\n",
      "['bisma', 'fauzi', 'haqi']\n",
      "['alif', 'zaidan', 'purbayu', 'bisma', 'fauzi', 'haqi', 'mayor', 'framos', 'kucing']\n",
      "\n",
      "['zaidan', 'purbayu', 'bisma', 'fauzi', 'haqi', 'mayor', 'framos', 'kucing']\n"
     ]
    }
   ],
   "source": [
    "# list\n",
    "var = [\"alif\", \"zaidan\", \"bisma\", \"fauzi\", \"haqi\"]\n",
    "\n",
    "print(var)\n",
    "print(var[-1])\n",
    "print(var[-2])\n",
    "print(var[:2])\n",
    "print(var[2:])\n",
    "print(var[2:])\n",
    "\n",
    "# menambahkan diakhir\n",
    "var.append(\"mayor\")\n",
    "\n",
    "# menambahkan di list tertentu\n",
    "var.insert(2, \"purbayu\")\n",
    "\n",
    "var.extend([\"framos\", \"kucing\"])\n",
    "\n",
    "print(var)\n",
    "print()\n",
    "\n",
    "del var[0]\n",
    "print(var)"
   ]
  },
  {
   "cell_type": "code",
   "execution_count": 92,
   "id": "bc85e0da",
   "metadata": {},
   "outputs": [
    {
     "name": "stdout",
     "output_type": "stream",
     "text": [
      "selamat pagi  haqi\n"
     ]
    }
   ],
   "source": [
    "def message(nama):\n",
    "    print(\"selamat pagi \", nama)\n",
    "\n",
    "nama = input(\"masukkan nama : \")\n",
    "message(nama)"
   ]
  },
  {
   "cell_type": "code",
   "execution_count": 94,
   "id": "72b83fca",
   "metadata": {},
   "outputs": [
    {
     "name": "stdout",
     "output_type": "stream",
     "text": [
      "Hello, my name is Henry Smith\n",
      "Hello, my name is william Smith\n",
      "Hello, my name is james do\n"
     ]
    }
   ],
   "source": [
    "def introduction(firstName, lastName=\"Smith\"):\n",
    "    print(\"Hello, my name is\", firstName, lastName)\n",
    "# call the function here\n",
    "introduction(\"Henry\")\n",
    "introduction(firstName=\"william\")\n",
    "introduction(\"james\", \"do\")"
   ]
  },
  {
   "cell_type": "code",
   "execution_count": 99,
   "id": "40f889ae",
   "metadata": {},
   "outputs": [
    {
     "name": "stdout",
     "output_type": "stream",
     "text": [
      "8\n"
     ]
    }
   ],
   "source": [
    "def sumTwoNumbers(num1, num2) :\n",
    "    sum = num1 + num2\n",
    "\n",
    "    print(sum)\n",
    "\n",
    "sumTwoNumbers (3, 5 ) "
   ]
  },
  {
   "cell_type": "code",
   "execution_count": 5,
   "id": "b5c549d7",
   "metadata": {},
   "outputs": [
    {
     "name": "stdout",
     "output_type": "stream",
     "text": [
      "{'warna': 'merah', 'merk': 'avanza', 'roda': 4, 'harga': 4000}\n",
      "warna - merah\n",
      "merk - avanza\n",
      "roda - 4\n",
      "harga - 4000\n",
      "warna - merah\n",
      "merk - avanza\n",
      "roda - 4\n",
      "harga - 4000\n",
      "\n",
      "merah\n",
      "avanza\n",
      "4\n",
      "4000\n"
     ]
    }
   ],
   "source": [
    "dict={\"warna\":\"biru\", \"merk\":\"avanza\", \"roda\":4}\n",
    "\n",
    "dict[\"harga\"] = 4000\n",
    "dict.popitem\n",
    "dict.values\n",
    "dict.update({\"warna\" : \"merah\"})\n",
    "print(dict)\n",
    "\n",
    " # dict.popitem() # menghapus item terakhir\n",
    "\n",
    "for key in dict:\n",
    "    print(key, \"-\", dict[key])\n",
    "\n",
    "for english, sampe in dict.items():\n",
    "    print(english,\"-\", sampe)\n",
    "\n",
    "print()\n",
    "\n",
    "for french in dict.values():\n",
    "    print(french)\n",
    "\n"
   ]
  },
  {
   "cell_type": "code",
   "execution_count": null,
   "id": "f24aa978",
   "metadata": {},
   "outputs": [
    {
     "name": "stdout",
     "output_type": "stream",
     "text": [
      "{'warna': 'merah', 'merk': 'avanza', 'roda': 4, 'harga': 4000}\n",
      "warna - merah\n",
      "merk - avanza\n",
      "roda - 4\n",
      "harga - 4000\n"
     ]
    }
   ],
   "source": [
    "print(dict)\n",
    "dict.popitem\n",
    "\n",
    "\n",
    "for key, value in dict.items():\n",
    "    print(key, \"-\", value)"
   ]
  },
  {
   "cell_type": "code",
   "execution_count": null,
   "id": "2fb21151",
   "metadata": {},
   "outputs": [],
   "source": []
  }
 ],
 "metadata": {
  "kernelspec": {
   "display_name": "Python 3",
   "language": "python",
   "name": "python3"
  },
  "language_info": {
   "codemirror_mode": {
    "name": "ipython",
    "version": 3
   },
   "file_extension": ".py",
   "mimetype": "text/x-python",
   "name": "python",
   "nbconvert_exporter": "python",
   "pygments_lexer": "ipython3",
   "version": "3.13.5"
  }
 },
 "nbformat": 4,
 "nbformat_minor": 5
}
